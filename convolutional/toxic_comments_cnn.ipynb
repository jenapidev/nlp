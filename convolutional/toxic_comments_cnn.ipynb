{
 "cells": [
  {
   "cell_type": "markdown",
   "id": "ee2bdce2-6ce6-4a52-b6cc-cfc9c6ab4bb3",
   "metadata": {},
   "source": [
    "# Statistical analysis \n",
    "\n",
    "<p>- Here we explore the data and create the parameters for it to be valid and have the required featores for the desired output-</p>"
   ]
  },
  {
   "cell_type": "code",
   "execution_count": 1,
   "id": "ef19accc-2940-4d45-a42d-490adabafa32",
   "metadata": {},
   "outputs": [],
   "source": [
    "from __future__ import print_function, division"
   ]
  },
  {
   "cell_type": "code",
   "execution_count": 2,
   "id": "5f097e92-1cfe-4248-bfb8-ea69a7255c80",
   "metadata": {},
   "outputs": [],
   "source": [
    "import os\n",
    "import sys\n",
    "import numpy as np\n",
    "import pandas as pd\n",
    "import tensorflow as tf\n",
    "import matplotlib.pyplot as plt\n",
    "from keras.preprocessing.text import Tokenizer\n",
    "from tensorflow.keras.preprocessing.sequence import pad_sequences\n",
    "from keras.layers import Dense, Input, GlobalMaxPooling1D\n",
    "from keras.layers import Conv1D, MaxPooling1D, Embedding\n",
    "from keras.models import Model\n",
    "from keras import Sequential\n",
    "from sklearn.metrics import roc_auc_score\n",
    "\n",
    "os.environ[\"KERAS_BACKEND\"] = \"tensorflow\"\n"
   ]
  },
  {
   "cell_type": "code",
   "execution_count": 3,
   "id": "ebe73cf2-cc92-429a-84c8-fcb13c28b10a",
   "metadata": {},
   "outputs": [
    {
     "name": "stdout",
     "output_type": "stream",
     "text": [
      "Num GPUs Available:  1\n"
     ]
    }
   ],
   "source": [
    "print(\"Num GPUs Available: \", len(tf.config.list_physical_devices('GPU')))"
   ]
  },
  {
   "cell_type": "code",
   "execution_count": 4,
   "id": "a2052234-81dc-4ac0-9743-e116a04b8556",
   "metadata": {},
   "outputs": [],
   "source": [
    "MAX_SEQUENCE_LENGTH = 100\n",
    "MAX_VOCAB_SIZE = 20000\n",
    "EMBEDDING_DIM = 100\n",
    "VALIDATION_SPLIT = 0.2\n",
    "BATCH_SIZE = 128\n",
    "EPOCHS = 10"
   ]
  },
  {
   "cell_type": "code",
   "execution_count": 5,
   "id": "94da8b9c-0e12-47fd-bdb5-f8118c158fc6",
   "metadata": {},
   "outputs": [
    {
     "name": "stdout",
     "output_type": "stream",
     "text": [
      "Found 400000 word vectors\n"
     ]
    }
   ],
   "source": [
    "print('Loading word vectors...', end='\\r')\n",
    "word2vec = {}\n",
    "with open(os.path.join(f'../large_files/glove.6B/glove.6B.{EMBEDDING_DIM}d.txt'), encoding=\"utf8\") as f:\n",
    "    for line in f:\n",
    "        values = line.split()\n",
    "        word = values[0]\n",
    "        vec = np.asarray(values[1:], dtype='float32')\n",
    "        word2vec[word] = vec\n",
    "        \n",
    "print(f'Found {len(word2vec)} word vectors', end='\\n')"
   ]
  },
  {
   "cell_type": "code",
   "execution_count": 6,
   "id": "7e9bf36c-b728-4ba9-9dcd-d54bbc7ef042",
   "metadata": {},
   "outputs": [
    {
     "name": "stdout",
     "output_type": "stream",
     "text": [
      "Max sequence lenght: 5000\n",
      "Min sequence lenght: 6\n",
      "Median sequence lenght: 205\n"
     ]
    }
   ],
   "source": [
    "print('Loading in comments...', end='\\r')\n",
    "\n",
    "train = pd.read_csv(\"../large_files/toxic_comments/train.csv\")\n",
    "sentences = train[\"comment_text\"].fillna(\"DUMMY_VALUE\").values\n",
    "possible_labels = [\"toxic\", \"severe_toxic\", \"obscene\", \"threat\", \"insult\", \"identity_hate\"]\n",
    "targets = train[possible_labels].values\n",
    "\n",
    "sequences_length = [len(s) for s in sentences]\n",
    "print(f'Max sequence lenght: {max(sequences_length)}', end='\\n')\n",
    "print(f'Min sequence lenght: {min(sequences_length)}', end='\\n')\n",
    "sequences_length = sorted(sequences_length)\n",
    "print(f'Median sequence lenght: {sequences_length[len(sequences_length) // 2]}', end='\\n')\n"
   ]
  },
  {
   "cell_type": "code",
   "execution_count": 7,
   "id": "129bfc19-9dc2-4a49-8855-c8c37392d37c",
   "metadata": {},
   "outputs": [],
   "source": [
    "tokenizer = Tokenizer(num_words=MAX_VOCAB_SIZE)\n",
    "tokenizer.fit_on_texts(sentences)\n",
    "sequences = tokenizer.texts_to_sequences(sentences)"
   ]
  },
  {
   "cell_type": "code",
   "execution_count": 8,
   "id": "7b4e6b78-c867-49f0-8555-8e653f3c3f18",
   "metadata": {},
   "outputs": [
    {
     "name": "stdout",
     "output_type": "stream",
     "text": [
      "Found 210337 unique tokens\n"
     ]
    }
   ],
   "source": [
    "word2dix = tokenizer.word_index\n",
    "print(f'Found {len(word2dix)} unique tokens')"
   ]
  },
  {
   "cell_type": "code",
   "execution_count": 9,
   "id": "1a4bea20-1867-4846-9c8e-b388c4b90c92",
   "metadata": {},
   "outputs": [
    {
     "name": "stdout",
     "output_type": "stream",
     "text": [
      "Size of data tensor: (159571, 100)\n"
     ]
    }
   ],
   "source": [
    "data = pad_sequences(sequences, maxlen=MAX_SEQUENCE_LENGTH)\n",
    "print(f'Size of data tensor: {data.shape}')"
   ]
  },
  {
   "cell_type": "code",
   "execution_count": 10,
   "id": "5befd23d-9992-4c96-a658-ff9be4ac84dd",
   "metadata": {},
   "outputs": [
    {
     "name": "stdout",
     "output_type": "stream",
     "text": [
      "Filling pre-trained emmbeddings...\r"
     ]
    }
   ],
   "source": [
    "print('Filling pre-trained emmbeddings...', end='\\r')\n",
    "num_words = min(MAX_VOCAB_SIZE, len(word2dix) + 1)\n",
    "embedding_matrix = np.zeros((num_words, EMBEDDING_DIM))\n",
    "for word, i in word2dix.items():\n",
    "    if i < MAX_VOCAB_SIZE:\n",
    "        embedding_vector = word2vec.get(word)\n",
    "        if embedding_vector is not None:\n",
    "            embedding_matrix[i] = embedding_vector"
   ]
  },
  {
   "cell_type": "markdown",
   "id": "d555026d-7d32-4f04-bec5-6ee7b58e7b9c",
   "metadata": {},
   "source": [
    "# Model Building and configuration\n",
    "<p>Here we create the model using the embedding, convolutional and fully connected layers</p>\n",
    "<ol>\n",
    "    <li><p>Embedding layer</br><span>Here we configure num_words, EMBEDDING_DIM, weights, input_length, and define if it's trainable</span></p></li>    \n",
    "</ol>"
   ]
  },
  {
   "cell_type": "code",
   "execution_count": 11,
   "id": "e17e3785-9cf2-4c1d-a8f6-65a9879fff31",
   "metadata": {},
   "outputs": [
    {
     "name": "stdout",
     "output_type": "stream",
     "text": [
      "Model: \"sequential\"\n",
      "_________________________________________________________________\n",
      " Layer (type)                Output Shape              Param #   \n",
      "=================================================================\n",
      " embedding (Embedding)       (None, None, 100)         2000000   \n",
      "                                                                 \n",
      " conv1d (Conv1D)             (None, None, 128)         38528     \n",
      "                                                                 \n",
      " max_pooling1d (MaxPooling1D  (None, None, 128)        0         \n",
      " )                                                               \n",
      "                                                                 \n",
      " conv1d_1 (Conv1D)           (None, None, 128)         49280     \n",
      "                                                                 \n",
      " max_pooling1d_1 (MaxPooling  (None, None, 128)        0         \n",
      " 1D)                                                             \n",
      "                                                                 \n",
      " conv1d_2 (Conv1D)           (None, None, 128)         49280     \n",
      "                                                                 \n",
      " global_max_pooling1d (Globa  (None, 128)              0         \n",
      " lMaxPooling1D)                                                  \n",
      "                                                                 \n",
      " dense (Dense)               (None, 128)               16512     \n",
      "                                                                 \n",
      " dense_1 (Dense)             (None, 6)                 774       \n",
      "                                                                 \n",
      "=================================================================\n",
      "Total params: 2,154,374\n",
      "Trainable params: 154,374\n",
      "Non-trainable params: 2,000,000\n",
      "_________________________________________________________________\n"
     ]
    }
   ],
   "source": [
    "print('Building model...', end='\\r')\n",
    "\n",
    "embedding_layer = Embedding(\n",
    "    num_words,\n",
    "    EMBEDDING_DIM,\n",
    "    trainable=False,\n",
    ")\n",
    "\n",
    "embedding_layer.build((1,))\n",
    "embedding_layer.set_weights([embedding_matrix])\n",
    "\n",
    "model = Sequential(\n",
    "    [\n",
    "        embedding_layer,\n",
    "        Conv1D(128, 3, activation='relu'),\n",
    "        MaxPooling1D(3),\n",
    "        Conv1D(128, 3, activation='relu'),\n",
    "        MaxPooling1D(3),\n",
    "        Conv1D(128, 3, activation='relu'),\n",
    "        GlobalMaxPooling1D(),\n",
    "        Dense(128, activation='relu'),\n",
    "        Dense(len(possible_labels), activation='sigmoid')\n",
    "    ]\n",
    ")\n",
    "\n",
    "model.summary()\n",
    "\n",
    "model.compile(\n",
    "    loss='binary_crossentropy',\n",
    "    optimizer='rmsprop',\n",
    "    metrics=['accuracy']\n",
    ")"
   ]
  },
  {
   "cell_type": "code",
   "execution_count": 12,
   "id": "d6f1b6d8-a500-4b55-9ff0-c507b7f75da8",
   "metadata": {},
   "outputs": [
    {
     "name": "stdout",
     "output_type": "stream",
     "text": [
      "Epoch 1/10odel...\n",
      "998/998 [==============================] - 10s 5ms/step - loss: 0.0844 - accuracy: 0.9805 - val_loss: 0.0702 - val_accuracy: 0.9941\n",
      "Epoch 2/10\n",
      "998/998 [==============================] - 5s 5ms/step - loss: 0.0679 - accuracy: 0.9926 - val_loss: 0.0696 - val_accuracy: 0.9918\n",
      "Epoch 3/10\n",
      "998/998 [==============================] - 5s 5ms/step - loss: 0.0632 - accuracy: 0.9921 - val_loss: 0.0694 - val_accuracy: 0.9941\n",
      "Epoch 4/10\n",
      "998/998 [==============================] - 5s 5ms/step - loss: 0.0598 - accuracy: 0.9930 - val_loss: 0.0723 - val_accuracy: 0.9937\n",
      "Epoch 5/10\n",
      "998/998 [==============================] - 5s 5ms/step - loss: 0.0574 - accuracy: 0.9931 - val_loss: 0.0827 - val_accuracy: 0.9924\n",
      "Epoch 6/10\n",
      "998/998 [==============================] - 5s 5ms/step - loss: 0.0551 - accuracy: 0.9934 - val_loss: 0.0843 - val_accuracy: 0.9934\n",
      "Epoch 7/10\n",
      "998/998 [==============================] - 5s 5ms/step - loss: 0.0535 - accuracy: 0.9936 - val_loss: 0.0782 - val_accuracy: 0.9925\n",
      "Epoch 8/10\n",
      "998/998 [==============================] - 5s 5ms/step - loss: 0.0516 - accuracy: 0.9936 - val_loss: 0.0966 - val_accuracy: 0.9937\n",
      "Epoch 9/10\n",
      "998/998 [==============================] - 5s 5ms/step - loss: 0.0503 - accuracy: 0.9933 - val_loss: 0.1126 - val_accuracy: 0.9940\n",
      "Epoch 10/10\n",
      "998/998 [==============================] - 5s 5ms/step - loss: 0.0496 - accuracy: 0.9934 - val_loss: 0.0771 - val_accuracy: 0.9906\n"
     ]
    }
   ],
   "source": [
    "print('Training model...', end='\\r')\n",
    "tf.debugging.set_log_device_placement(False)\n",
    "history = model.fit(\n",
    "    data,\n",
    "    targets,\n",
    "    batch_size=BATCH_SIZE,\n",
    "    epochs=EPOCHS,\n",
    "    validation_split=VALIDATION_SPLIT\n",
    ")"
   ]
  },
  {
   "cell_type": "markdown",
   "id": "47dca939-9416-4d1d-9b9e-dc5ab8106827",
   "metadata": {},
   "source": [
    "# Plot model accuracy and results"
   ]
  },
  {
   "cell_type": "code",
   "execution_count": 13,
   "id": "7b5275cf-80be-4983-8f90-0a5bdc3000a3",
   "metadata": {},
   "outputs": [
    {
     "data": {
      "image/png": "[encoded data removed]",
      "text/plain": [
       "<Figure size 640x480 with 1 Axes>"
      ]
     },
     "metadata": {},
     "output_type": "display_data"
    }
   ],
   "source": [
    "plt.plot(history.history['loss'], label='loss')\n",
    "plt.plot(history.history['val_loss'], label='val_loss')\n",
    "plt.legend()\n",
    "plt.show()"
   ]
  },
  {
   "cell_type": "code",
   "execution_count": 15,
   "id": "409c2c6c-afac-410c-832e-0b567bcc1608",
   "metadata": {},
   "outputs": [
    {
     "data": {
      "image/png": "[encoded data removed]",
      "text/plain": [
       "<Figure size 640x480 with 1 Axes>"
      ]
     },
     "metadata": {},
     "output_type": "display_data"
    }
   ],
   "source": [
    "plt.plot(history.history['accuracy'], label='Accuracy')\n",
    "plt.plot(history.history['val_accuracy'], label='Validation accuracy')\n",
    "plt.legend()\n",
    "plt.show()"
   ]
  },
  {
   "cell_type": "code",
   "execution_count": 17,
   "id": "77986411-598b-4239-b3b0-f27b4ac883d6",
   "metadata": {},
   "outputs": [
    {
     "name": "stdout",
     "output_type": "stream",
     "text": [
      "4987/4987 [==============================] - 7s 1ms/step\n",
      "0.9735911528385405\n"
     ]
    }
   ],
   "source": [
    "p = model.predict(data)\n",
    "aucs = []\n",
    "for j  in range(6):\n",
    "    auc = roc_auc_score(targets[:,j], p[:,j])\n",
    "    aucs.append(auc)\n",
    "print(np.mean(aucs))"
   ]
  }
 ],
 "metadata": {
  "kernelspec": {
   "display_name": "Python 3 (ipykernel)",
   "language": "python",
   "name": "python3"
  },
  "language_info": {
   "codemirror_mode": {
    "name": "ipython",
    "version": 3
   },
   "file_extension": ".py",
   "mimetype": "text/x-python",
   "name": "python",
   "nbconvert_exporter": "python",
   "pygments_lexer": "ipython3",
   "version": "3.9.18"
  }
 },
 "nbformat": 4,
 "nbformat_minor": 5
}
